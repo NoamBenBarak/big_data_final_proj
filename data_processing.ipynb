{
 "cells": [
  {
   "cell_type": "code",
   "execution_count": null,
   "metadata": {},
   "outputs": [],
   "source": [
    "import numpy as np\n",
    "import pandas as pd"
   ]
  },
  {
   "cell_type": "code",
   "execution_count": null,
   "metadata": {},
   "outputs": [],
   "source": [
    "df= pd.read_csv(\"haifa_trips.csv\")\n",
    "df.columns = ['MAC', 'From', 'To', 'StartTime','EndTime']\n",
    "df.dropna(inplace = True)\n",
    "df['MAC'] = pd.to_numeric(df['MAC'])\n",
    "df['StartTime'] = pd.to_datetime(df['StartTime'])\n",
    "df['EndTime'] = pd.to_datetime(df['EndTime'])"
   ]
  },
  {
   "cell_type": "code",
   "execution_count": null,
   "metadata": {},
   "outputs": [],
   "source": [
    "df_copy = df.copy()\n",
    "df_copy.sort_values(['MAC', 'StartTime'],ascending=[True,True], inplace=True)\n",
    "df_copy = df_copy.reset_index(drop=True)"
   ]
  },
  {
   "cell_type": "code",
   "execution_count": null,
   "metadata": {},
   "outputs": [],
   "source": [
    "ind= df_copy.index.tolist()\n",
    "length= ind.pop()\n",
    "\n",
    "#Check the devices have more than one trip - 20 minutes apart from the previous trip\n",
    "counter=0\n",
    "for i in range (0, length-1):\n",
    "    if (df_copy['MAC'].iloc[i]== df_copy['MAC'].iloc[i-1]):\n",
    "      diff= df_copy['StartTime'].iloc[i]-df_copy['EndTime'].iloc[i-1]\n",
    "      minutes = diff.total_seconds()/60\n",
    "      if minutes>20:\n",
    "        counter=counter+1 \n",
    "print(counter)\n",
    "\n",
    "\n",
    "#Check the devices have more than one trip - 10 minutes apart from the previous trip\n",
    "counter=0\n",
    "for i in range (0, length-1):\n",
    "    if (df_copy['MAC'].iloc[i]== df_copy['MAC'].iloc[i-1]):\n",
    "      diff= df_copy['StartTime'].iloc[i]-df_copy['EndTime'].iloc[i-1]\n",
    "      minutes = diff.total_seconds()/60\n",
    "      if minutes>10:\n",
    "        counter=counter+1 \n",
    "print(counter)\n",
    "\n",
    "\n",
    "# The start time of a new section is smaller than the end time of a previous section\n",
    "counter=0\n",
    "for i in range (1,length-1):\n",
    "    if df_copy['MAC'].iloc[i]== df_copy['MAC'].iloc[i-1]:\n",
    "      diff= df_copy['StartTime'].iloc[i]-df_copy['EndTime'].iloc[i-1]\n",
    "      minutes = diff.total_seconds()/60\n",
    "      if minutes < -1:\n",
    "        counter=counter+1 \n",
    "print(counter)\n",
    "\n",
    "#If the segment started and ended in the same minute\n",
    "counter=0\n",
    "for i in range (1,length-1):\n",
    "  if i>0:\n",
    "      diff= diff= df['StartTime'].iloc[i]-df['EndTime'].iloc[i]\n",
    "      minutes = diff.total_seconds()/60\n",
    "      if minutes==0:\n",
    "        counter=counter+1 \n",
    "print(counter)\n"
   ]
  },
  {
   "cell_type": "code",
   "execution_count": null,
   "metadata": {},
   "outputs": [],
   "source": [
    "new_df=df_copy.copy()\n",
    "len_new_df= new_df.index.tolist()\n",
    "len= len_new_df.pop()\n",
    "\n",
    "# Add a new column in the new file and call it the difference\n",
    "#The difference means time differences between trips of the same person\n",
    "new_df['Hefresh']= 0\n",
    "for i in range (1,len):\n",
    "  if (new_df['MAC'].iloc[i]== new_df['MAC'].iloc[i-1]):\n",
    "    diff= new_df['StartTime'].iloc[i]-new_df['EndTime'].iloc[i-1]\n",
    "    minutes = diff.total_seconds()/60\n",
    "    #new_df['Hefresh'].iloc[i]= minutes\n",
    "    new_df.iloc[i, new_df.columns.get_loc('Hefresh')] = minutes\n",
    "\n",
    "new_df['drive_index']=0\n",
    "\n",
    "x=0\n",
    "for i in range (1,len):\n",
    "  if new_df['MAC'].iloc[i]== new_df['MAC'].iloc[i-1] and new_df['Hefresh'].iloc[i]<20:\n",
    "    #new_df['drive_index'].iloc[i]= x\n",
    "    new_df.iloc[i, new_df.columns.get_loc('drive_index')] = x\n",
    "  else:\n",
    "    x=x+1\n",
    "    #new_df['drive_index'].iloc[i]= x\n",
    "    new_df.iloc[i, new_df.columns.get_loc('drive_index')] = x\n",
    "\n",
    "new_df.iloc[0:50]"
   ]
  },
  {
   "cell_type": "code",
   "execution_count": null,
   "metadata": {},
   "outputs": [],
   "source": [
    "max_drive_index=new_df['drive_index'].iloc[len]\n",
    "print(max_drive_index)\n",
    "new_df.tail()"
   ]
  },
  {
   "cell_type": "code",
   "execution_count": null,
   "metadata": {},
   "outputs": [],
   "source": [
    "# Creating a new record that is a trip\n",
    "max_drive_index=new_df['drive_index'].iloc[len]\n",
    "trips_arr=[]\n",
    "trip=[\"mac\",\"src\",\"dest\"]\n",
    "for i in range (0,max_drive_index):\n",
    "  rslt_df= new_df.loc[new_df['drive_index'] == i]\n",
    "  rslt_df_len=rslt_df['MAC'].count()\n",
    "  trip[0]=rslt_df['MAC'].iloc[0]\n",
    "  trip[1]=(rslt_df['From'].iloc[0])\n",
    "  trip[2]=(rslt_df['To'].iloc[rslt_df_len-1])\n",
    "  trips_arr.append(np.array(trip))\n",
    "\n",
    "for i in range (0,max_drive_index):\n",
    "  print(trips_arr[i])"
   ]
  },
  {
   "cell_type": "code",
   "execution_count": null,
   "metadata": {},
   "outputs": [],
   "source": [
    "trips_df = pd.DataFrame(trips_arr, columns = ['MAC', 'src','dest'])\n",
    "trips_df"
   ]
  }
 ],
 "metadata": {
  "language_info": {
   "name": "python"
  }
 },
 "nbformat": 4,
 "nbformat_minor": 2
}
